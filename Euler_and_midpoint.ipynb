{
 "cells": [
  {
   "cell_type": "code",
   "execution_count": 6,
   "metadata": {
    "collapsed": true
   },
   "outputs": [],
   "source": [
    "import numpy as np\n",
    "import matplotlib.pyplot as plt\n",
    "%matplotlib inline"
   ]
  },
  {
   "cell_type": "code",
   "execution_count": 40,
   "metadata": {
    "collapsed": false
   },
   "outputs": [
    {
     "data": {
      "text/plain": [
       "[<matplotlib.lines.Line2D at 0x7f89792bac88>]"
      ]
     },
     "execution_count": 40,
     "metadata": {},
     "output_type": "execute_result"
    },
    {
     "data": {
      "image/png": "[encoded data removed]",
      "text/plain": [
       "<matplotlib.figure.Figure at 0x7f897932d940>"
      ]
     },
     "metadata": {},
     "output_type": "display_data"
    }
   ],
   "source": [
    "y = [1]\n",
    "h = 0.1\n",
    "x = [0]\n",
    "A = -15\n",
    "x_max = 1\n",
    "\n",
    "while x[-1] < x_max:\n",
    "    y.append(y[-1]*(1+h*A))\n",
    "    x.append(x[-1]+h)\n",
    "\n",
    "plt.plot(x,y)\n",
    "x = np.array(x)\n",
    "y_true = np.exp(A*x)\n",
    "plt.plot(x,y_true)\n",
    "\n",
    "y = [1]\n",
    "h = 0.1\n",
    "x = [0]\n",
    "\n",
    "while x[-1] < x_max:\n",
    "    y.append(y[-1]+h*A*(y[-1]+0.5*h*A*y[-1]))\n",
    "    x.append(x[-1]+h)\n",
    "\n",
    "plt.plot(x,y)"
   ]
  },
  {
   "cell_type": "code",
   "execution_count": null,
   "metadata": {
    "collapsed": true
   },
   "outputs": [],
   "source": []
  }
 ],
 "metadata": {
  "kernelspec": {
   "display_name": "Python 3",
   "language": "python",
   "name": "python3"
  },
  "language_info": {
   "codemirror_mode": {
    "name": "ipython",
    "version": 3
   },
   "file_extension": ".py",
   "mimetype": "text/x-python",
   "name": "python",
   "nbconvert_exporter": "python",
   "pygments_lexer": "ipython3",
   "version": "3.4.3+"
  }
 },
 "nbformat": 4,
 "nbformat_minor": 0
}
